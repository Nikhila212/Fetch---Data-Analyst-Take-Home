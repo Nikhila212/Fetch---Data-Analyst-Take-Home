{
 "cells": [
  {
   "cell_type": "code",
   "execution_count": 26,
   "id": "2db42fce-b92a-4c37-8c01-445e4c38e751",
   "metadata": {},
   "outputs": [],
   "source": [
    "import pandas as pd\n",
    "import sqlite3\n",
    "import numpy as np\n",
    "from matplotlib import pyplot as plt\n",
    "import math\n",
    "import seaborn as sns"
   ]
  },
  {
   "cell_type": "code",
   "execution_count": 2,
   "id": "fbf03280-2d4e-4274-8796-bfc4d3e84873",
   "metadata": {},
   "outputs": [],
   "source": [
    "conn = sqlite3.connect('assessment.db')\n",
    "cursor = conn.cursor()"
   ]
  },
  {
   "cell_type": "code",
   "execution_count": 3,
   "id": "c8e46bfd-8269-4091-bfd4-86205b815386",
   "metadata": {},
   "outputs": [
    {
     "name": "stdout",
     "output_type": "stream",
     "text": [
      "File loaded successfully!\n",
      "                         ID               CREATED_DATE  \\\n",
      "0  5ef3b4f17053ab141787697d  2020-06-24 20:17:54.000 Z   \n",
      "1  5ff220d383fcfc12622b96bc  2021-01-03 19:53:55.000 Z   \n",
      "2  6477950aa55bb77a0e27ee10  2023-05-31 18:42:18.000 Z   \n",
      "3  658a306e99b40f103b63ccf8  2023-12-26 01:46:22.000 Z   \n",
      "4  653cf5d6a225ea102b7ecdc2  2023-10-28 11:51:50.000 Z   \n",
      "\n",
      "                  BIRTH_DATE STATE LANGUAGE  GENDER  \n",
      "0  2000-08-11 00:00:00.000 Z    CA   es-419  female  \n",
      "1  2001-09-24 04:00:00.000 Z    PA       en  female  \n",
      "2  1994-10-28 00:00:00.000 Z    FL   es-419  female  \n",
      "3                        NaN    NC       en     NaN  \n",
      "4  1972-03-19 00:00:00.000 Z    PA       en  female  \n"
     ]
    }
   ],
   "source": [
    "# loading users dataset\n",
    "\n",
    "users_df = pd.read_csv('C:/Users/vaitl/OneDrive/Desktop/Fetch Rewards/USER_TAKEHOME.csv')\n",
    "print(\"File loaded successfully!\")\n",
    "\n",
    "# Display first few rows for verification\n",
    "print(users_df.head())"
   ]
  },
  {
   "cell_type": "code",
   "execution_count": 4,
   "id": "8e470c5f-fa46-44f7-947c-e2d075ecddad",
   "metadata": {},
   "outputs": [
    {
     "name": "stdout",
     "output_type": "stream",
     "text": [
      "File loaded successfully!\n",
      "          CATEGORY_1              CATEGORY_2                   CATEGORY_3  \\\n",
      "0  Health & Wellness           Sexual Health  Conductivity Gels & Lotions   \n",
      "1             Snacks           Puffed Snacks         Cheese Curls & Puffs   \n",
      "2  Health & Wellness               Hair Care        Hair Care Accessories   \n",
      "3  Health & Wellness               Oral Care                   Toothpaste   \n",
      "4  Health & Wellness  Medicines & Treatments               Essential Oils   \n",
      "\n",
      "  CATEGORY_4                                       MANUFACTURER  \\\n",
      "0        NaN                                                NaN   \n",
      "1        NaN                                                NaN   \n",
      "2        NaN                           PLACEHOLDER MANUFACTURER   \n",
      "3        NaN                                  COLGATE-PALMOLIVE   \n",
      "4        NaN  MAPLE HOLISTICS AND HONEYDEW PRODUCTS INTERCHA...   \n",
      "\n",
      "             BRAND       BARCODE  \n",
      "0              NaN  7.964944e+11  \n",
      "1              NaN  2.327801e+10  \n",
      "2          ELECSOP  4.618178e+11  \n",
      "3          COLGATE  3.500047e+10  \n",
      "4  MAPLE HOLISTICS  8.068109e+11  \n"
     ]
    }
   ],
   "source": [
    "# loading products dataset\n",
    "\n",
    "products_df = pd.read_csv('C:/Users/vaitl/OneDrive/Desktop/Fetch Rewards/PRODUCTS_TAKEHOME.csv')\n",
    "print(\"File loaded successfully!\")\n",
    "\n",
    "# Display first few rows for verification\n",
    "print(products_df.head())"
   ]
  },
  {
   "cell_type": "code",
   "execution_count": 5,
   "id": "19c77634-e3be-4c20-8261-ccae206bd2e1",
   "metadata": {},
   "outputs": [
    {
     "name": "stdout",
     "output_type": "stream",
     "text": [
      "File loaded successfully!\n",
      "                             RECEIPT_ID PURCHASE_DATE  \\\n",
      "0  0000d256-4041-4a3e-adc4-5623fb6e0c99    2024-08-21   \n",
      "1  0001455d-7a92-4a7b-a1d2-c747af1c8fd3    2024-07-20   \n",
      "2  00017e0a-7851-42fb-bfab-0baa96e23586    2024-08-18   \n",
      "3  000239aa-3478-453d-801e-66a82e39c8af    2024-06-18   \n",
      "4  00026b4c-dfe8-49dd-b026-4c2f0fd5c6a1    2024-07-04   \n",
      "\n",
      "                   SCAN_DATE STORE_NAME                   USER_ID  \\\n",
      "0  2024-08-21 14:19:06.539 Z    WALMART  63b73a7f3d310dceeabd4758   \n",
      "1  2024-07-20 09:50:24.206 Z       ALDI  62c08877baa38d1a1f6c211a   \n",
      "2  2024-08-19 15:38:56.813 Z    WALMART  60842f207ac8b7729e472020   \n",
      "3  2024-06-19 11:03:37.468 Z  FOOD LION  63fcd7cea4f8442c3386b589   \n",
      "4  2024-07-05 15:56:43.549 Z   RANDALLS  6193231ae9b3d75037b0f928   \n",
      "\n",
      "        BARCODE FINAL_QUANTITY FINAL_SALE  \n",
      "0  1.530001e+10           1.00             \n",
      "1           NaN           zero       1.49  \n",
      "2  7.874223e+10           1.00             \n",
      "3  7.833997e+11           zero       3.49  \n",
      "4  4.790050e+10           1.00             \n"
     ]
    }
   ],
   "source": [
    "# loading users dataset\n",
    "\n",
    "transactions_df = pd.read_csv('C:/Users/vaitl/OneDrive/Desktop/Fetch Rewards/TRANSACTION_TAKEHOME.csv')\n",
    "print(\"File loaded successfully!\")\n",
    "\n",
    "# Display first few rows for verification\n",
    "print(transactions_df.head())"
   ]
  },
  {
   "cell_type": "code",
   "execution_count": 9,
   "id": "4b3e5562-6a8a-447d-837a-0bfced896efc",
   "metadata": {},
   "outputs": [
    {
     "data": {
      "text/plain": [
       "100000"
      ]
     },
     "execution_count": 9,
     "metadata": {},
     "output_type": "execute_result"
    }
   ],
   "source": [
    "users_df.to_sql('users', conn, if_exists='replace', index=False)"
   ]
  },
  {
   "cell_type": "code",
   "execution_count": 10,
   "id": "1b68cb3c-abfb-4d65-a9ff-9c84bb707cee",
   "metadata": {},
   "outputs": [
    {
     "data": {
      "text/plain": [
       "845552"
      ]
     },
     "execution_count": 10,
     "metadata": {},
     "output_type": "execute_result"
    }
   ],
   "source": [
    "products_df.to_sql('products', conn, if_exists='replace', index=False)"
   ]
  },
  {
   "cell_type": "code",
   "execution_count": 11,
   "id": "ec5baaca-692e-47bd-aad4-37fbc9f1f595",
   "metadata": {},
   "outputs": [
    {
     "data": {
      "text/plain": [
       "50000"
      ]
     },
     "execution_count": 11,
     "metadata": {},
     "output_type": "execute_result"
    }
   ],
   "source": [
    "transactions_df.to_sql('transactions', conn, if_exists='replace', index=False)"
   ]
  },
  {
   "cell_type": "code",
   "execution_count": 12,
   "id": "5a38e494-4acd-4f69-a97c-32865846fd57",
   "metadata": {},
   "outputs": [
    {
     "name": "stdout",
     "output_type": "stream",
     "text": [
      "\n",
      "Duplicate Rows in Users Dataset: 0\n",
      "Duplicate Rows in Products Dataset: 215\n",
      "Duplicate Rows in Transactions Dataset: 171\n"
     ]
    }
   ],
   "source": [
    "# Checking for duplicate rows in each dataset\n",
    "\n",
    "print(\"\\nDuplicate Rows in Users Dataset:\", users_df.duplicated().sum())\n",
    "print(\"Duplicate Rows in Products Dataset:\", products_df.duplicated().sum())\n",
    "print(\"Duplicate Rows in Transactions Dataset:\", transactions_df.duplicated().sum())"
   ]
  },
  {
   "cell_type": "code",
   "execution_count": 13,
   "id": "4072b7cc-5d19-4eb9-8406-5f30d2c617d1",
   "metadata": {},
   "outputs": [
    {
     "name": "stdout",
     "output_type": "stream",
     "text": [
      "Missing Values in Users Dataset:\n",
      "ID                  0\n",
      "CREATED_DATE        0\n",
      "BIRTH_DATE       3675\n",
      "STATE            4812\n",
      "LANGUAGE        30508\n",
      "GENDER           5892\n",
      "dtype: int64\n",
      "\n",
      "Missing Values in Products Dataset:\n",
      "CATEGORY_1         111\n",
      "CATEGORY_2        1424\n",
      "CATEGORY_3       60566\n",
      "CATEGORY_4      778093\n",
      "MANUFACTURER    226474\n",
      "BRAND           226472\n",
      "BARCODE           4025\n",
      "dtype: int64\n",
      "\n",
      "Missing Values in Transactions Dataset:\n",
      "RECEIPT_ID           0\n",
      "PURCHASE_DATE        0\n",
      "SCAN_DATE            0\n",
      "STORE_NAME           0\n",
      "USER_ID              0\n",
      "BARCODE           5762\n",
      "FINAL_QUANTITY       0\n",
      "FINAL_SALE           0\n",
      "dtype: int64\n"
     ]
    }
   ],
   "source": [
    "# Checking for missing values in each dataset\n",
    "print(\"Missing Values in Users Dataset:\")\n",
    "print(users_df.isnull().sum())\n",
    "\n",
    "print(\"\\nMissing Values in Products Dataset:\")\n",
    "print(products_df.isnull().sum())\n",
    "\n",
    "print(\"\\nMissing Values in Transactions Dataset:\")\n",
    "print(transactions_df.isnull().sum())"
   ]
  },
  {
   "cell_type": "code",
   "execution_count": 14,
   "id": "7974c81a-2c74-402d-bf85-4d329badbfba",
   "metadata": {},
   "outputs": [
    {
     "name": "stdout",
     "output_type": "stream",
     "text": [
      "\n",
      "Users Dataset Data Types:\n",
      "ID              object\n",
      "CREATED_DATE    object\n",
      "BIRTH_DATE      object\n",
      "STATE           object\n",
      "LANGUAGE        object\n",
      "GENDER          object\n",
      "dtype: object\n",
      "\n",
      "Products Dataset Data Types:\n",
      "CATEGORY_1       object\n",
      "CATEGORY_2       object\n",
      "CATEGORY_3       object\n",
      "CATEGORY_4       object\n",
      "MANUFACTURER     object\n",
      "BRAND            object\n",
      "BARCODE         float64\n",
      "dtype: object\n",
      "\n",
      "Transactions Dataset Data Types:\n",
      "RECEIPT_ID         object\n",
      "PURCHASE_DATE      object\n",
      "SCAN_DATE          object\n",
      "STORE_NAME         object\n",
      "USER_ID            object\n",
      "BARCODE           float64\n",
      "FINAL_QUANTITY     object\n",
      "FINAL_SALE         object\n",
      "dtype: object\n"
     ]
    }
   ],
   "source": [
    "# Checking data types of each column\n",
    "print(\"\\nUsers Dataset Data Types:\")\n",
    "print(users_df.dtypes)\n",
    "\n",
    "print(\"\\nProducts Dataset Data Types:\")\n",
    "print(products_df.dtypes)\n",
    "\n",
    "print(\"\\nTransactions Dataset Data Types:\")\n",
    "print(transactions_df.dtypes)"
   ]
  },
  {
   "cell_type": "code",
   "execution_count": 17,
   "id": "08c5af22-81a0-45e3-ba35-2afd75846dc6",
   "metadata": {},
   "outputs": [
    {
     "data": {
      "image/png": "[encoded data removed]",
      "text/plain": [
       "<Figure size 1000x500 with 1 Axes>"
      ]
     },
     "metadata": {},
     "output_type": "display_data"
    }
   ],
   "source": [
    "# Convert BIRTH_DATE to datetime and extract birth year\n",
    "users_df['BIRTH_DATE'] = pd.to_datetime(users_df['BIRTH_DATE'], errors='coerce')\n",
    "users_df['AGE'] = 2025 - users_df['BIRTH_DATE'].dt.year  # Assuming current year is 2025\n",
    "\n",
    "# Drop rows where AGE could not be computed\n",
    "users_df = users_df.dropna(subset=['AGE'])\n",
    "\n",
    "# Plot Age Distribution\n",
    "plt.figure(figsize=(10, 5))\n",
    "sns.histplot(users_df['AGE'], bins=30, kde=True, color='skyblue')\n",
    "plt.title('Age Distribution of Users')\n",
    "plt.xlabel('Age')\n",
    "plt.ylabel('Number of Users')\n",
    "plt.grid(True)\n",
    "plt.show()"
   ]
  },
  {
   "cell_type": "code",
   "execution_count": 21,
   "id": "19798088-857c-4c2a-8991-85f5ef9764d8",
   "metadata": {},
   "outputs": [
    {
     "name": "stdout",
     "output_type": "stream",
     "text": [
      "Number of users with unrealistic ages: 1436\n"
     ]
    }
   ],
   "source": [
    "# Count users with age less than 20 or greater than 100\n",
    "invalid_age_users = users_df[(users_df['AGE'] < 18) | (users_df['AGE'] > 100)]\n",
    "print(\"Number of users with unrealistic ages:\", len(invalid_age_users))"
   ]
  },
  {
   "cell_type": "code",
   "execution_count": 22,
   "id": "7bcba221-ee9f-4937-ae00-be7f2b5a4988",
   "metadata": {},
   "outputs": [
    {
     "name": "stdout",
     "output_type": "stream",
     "text": [
      "Unrealistic age users removed. New dataset shape: (92880, 7)\n"
     ]
    }
   ],
   "source": [
    "# Drop users with unrealistic ages if the count is small\n",
    "\n",
    "# Assuming 1500 as a threshold for \"too many\"\n",
    "if len(invalid_age_users) < 1500:  \n",
    "    users_df = users_df[(users_df['AGE'] >= 20) & (users_df['AGE'] <= 100)]\n",
    "    users_df.reset_index(drop=True, inplace=True)\n",
    "    print(\"Unrealistic age users removed. New dataset shape:\", users_df.shape)\n",
    "else:\n",
    "    print(\"Too many unrealistic ages. Consider investigating further.\")"
   ]
  },
  {
   "cell_type": "code",
   "execution_count": 24,
   "id": "8c88cec7-6345-425f-86c0-a7f7cc5583b3",
   "metadata": {},
   "outputs": [
    {
     "data": {
      "image/png": "[encoded data removed]",
      "text/plain": [
       "<Figure size 1200x600 with 1 Axes>"
      ]
     },
     "metadata": {},
     "output_type": "display_data"
    }
   ],
   "source": [
    "# Replace missing states with 'Unknown'\n",
    "users_df['STATE'] = users_df['STATE'].fillna('Unknown')\n",
    "\n",
    "# Count users by state\n",
    "state_counts = users_df['STATE'].value_counts().head(10)  \n",
    "\n",
    "# Show top 10 states\n",
    "# Plot State Distribution\n",
    "plt.figure(figsize=(12, 6))\n",
    "sns.barplot(x=state_counts.index, y=state_counts.values, hue=state_counts.index, palette='viridis', legend=False)\n",
    "plt.title('Top 10 States by User Count')\n",
    "plt.xlabel('State')\n",
    "plt.ylabel('Number of Users')\n",
    "plt.xticks(rotation=45)\n",
    "plt.grid(axis='y')\n",
    "plt.show()"
   ]
  },
  {
   "cell_type": "code",
   "execution_count": 31,
   "id": "61e820c7-9a0d-46d5-8628-8959c085f4f2",
   "metadata": {},
   "outputs": [
    {
     "name": "stdout",
     "output_type": "stream",
     "text": [
      "Unique gender values in dataset: ['female' 'male' 'non_binary' 'transgender' nan 'prefer_not_to_say'\n",
      " 'not_specified']\n",
      "\n",
      "User count by gender:\n",
      "GENDER\n",
      "female               62203\n",
      "male                 24606\n",
      "NaN                   2277\n",
      "transgender           1687\n",
      "prefer_not_to_say     1263\n",
      "non_binary             468\n",
      "not_specified          376\n",
      "Name: count, dtype: int64\n"
     ]
    }
   ],
   "source": [
    "# Get unique gender values\n",
    "print(\"Unique gender values in dataset:\", users_df['GENDER'].unique())\n",
    "\n",
    "# Standardizing gender values\n",
    "users_df['GENDER'] = users_df['GENDER'].replace({\n",
    "    'Non-Binary': 'non_binary',  # Standardize capitalization\n",
    "    'non_binary': 'non_binary',  # Keep consistent format\n",
    "    \"My gender isn't listed\": 'not_specified',\n",
    "    'not_specified': 'not_specified',\n",
    "    'unknown': 'not_specified',\n",
    "    'not_listed': 'not_specified',\n",
    "    'Prefer not to say': 'prefer_not_to_say',\n",
    "    'prefer_not_to_say': 'prefer_not_to_say'\n",
    "})\n",
    "\n",
    "# Ensure missing values remain NaN\n",
    "users_df['GENDER'] = users_df['GENDER'].replace('', np.nan)  # Convert empty strings to NaN\n",
    "users_df['GENDER'] = users_df['GENDER'].fillna(np.nan)  # Explicitly keep NaNs\n",
    "\n",
    "# Count the number of users by gender\n",
    "gender_counts = users_df['GENDER'].value_counts(dropna=False)  # Includes NaN values\n",
    "print(\"\\nUser count by gender:\\n\", gender_counts)"
   ]
  },
  {
   "cell_type": "code",
   "execution_count": 28,
   "id": "9decd4cc-3879-4bbf-95d6-a98639f7376e",
   "metadata": {},
   "outputs": [
    {
     "name": "stdout",
     "output_type": "stream",
     "text": [
      "Duplicates removed from Products Dataset. New shape: (845337, 7)\n",
      "Duplicates removed from Transactions Dataset. New shape: (49829, 8)\n"
     ]
    }
   ],
   "source": [
    "# Drop duplicate rows in products dataset\n",
    "products_df = products_df.drop_duplicates()\n",
    "print(\"Duplicates removed from Products Dataset. New shape:\", products_df.shape)\n",
    "\n",
    "# Drop duplicate rows in transactions dataset\n",
    "transactions_df = transactions_df.drop_duplicates()\n",
    "print(\"Duplicates removed from Transactions Dataset. New shape:\", transactions_df.shape)"
   ]
  },
  {
   "cell_type": "code",
   "execution_count": null,
   "id": "bac0f3d9-1f86-4ebc-bda7-90e4bddf683a",
   "metadata": {},
   "outputs": [],
   "source": []
  }
 ],
 "metadata": {
  "kernelspec": {
   "display_name": "Python 3 (ipykernel)",
   "language": "python",
   "name": "python3"
  },
  "language_info": {
   "codemirror_mode": {
    "name": "ipython",
    "version": 3
   },
   "file_extension": ".py",
   "mimetype": "text/x-python",
   "name": "python",
   "nbconvert_exporter": "python",
   "pygments_lexer": "ipython3",
   "version": "3.13.1"
  }
 },
 "nbformat": 4,
 "nbformat_minor": 5
}
