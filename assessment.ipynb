{
 "cells": [
  {
   "cell_type": "code",
   "execution_count": 9,
   "id": "83f94a06-0c87-46d0-a2d9-d8e735fb031c",
   "metadata": {},
   "outputs": [],
   "source": [
    "import pandas as pd\n",
    "\n",
    "#Load csv datasets\n",
    "users = r\"C:\\Users\\vaitl\\OneDrive\\Desktop\\Fetch Rewards\\USER_TAKEHOME.csv\"\n",
    "products = r\"C:\\Users\\vaitl\\OneDrive\\Desktop\\Fetch Rewards\\PRODUCTS_TAKEHOME.csv\"\n",
    "transaction = r\"C:\\Users\\vaitl\\OneDrive\\Desktop\\Fetch Rewards\\TRANSACTION_TAKEHOME.csv\""
   ]
  },
  {
   "cell_type": "code",
   "execution_count": 10,
   "id": "7e898e9d-8c7e-4ab0-967e-d5374db4872c",
   "metadata": {},
   "outputs": [
    {
     "name": "stdout",
     "output_type": "stream",
     "text": [
      "File Loaded\n"
     ]
    }
   ],
   "source": [
    "#Read the data in csv files\n",
    "users_df=pd.read_csv(users)\n",
    "products_df=pd.read_csv(products)\n",
    "transaction_df=pd.read_csv(transaction)\n",
    "\n",
    "print(\"File Loaded\")"
   ]
  },
  {
   "cell_type": "code",
   "execution_count": 11,
   "id": "d4204ab2-0338-4f20-8c9c-0665b2f33d73",
   "metadata": {},
   "outputs": [
    {
     "name": "stdout",
     "output_type": "stream",
     "text": [
      "Users Data:\n",
      "                         ID               CREATED_DATE  \\\n",
      "0  5ef3b4f17053ab141787697d  2020-06-24 20:17:54.000 Z   \n",
      "1  5ff220d383fcfc12622b96bc  2021-01-03 19:53:55.000 Z   \n",
      "2  6477950aa55bb77a0e27ee10  2023-05-31 18:42:18.000 Z   \n",
      "3  658a306e99b40f103b63ccf8  2023-12-26 01:46:22.000 Z   \n",
      "4  653cf5d6a225ea102b7ecdc2  2023-10-28 11:51:50.000 Z   \n",
      "\n",
      "                  BIRTH_DATE STATE LANGUAGE  GENDER  \n",
      "0  2000-08-11 00:00:00.000 Z    CA   es-419  female  \n",
      "1  2001-09-24 04:00:00.000 Z    PA       en  female  \n",
      "2  1994-10-28 00:00:00.000 Z    FL   es-419  female  \n",
      "3                        NaN    NC       en     NaN  \n",
      "4  1972-03-19 00:00:00.000 Z    PA       en  female  \n"
     ]
    }
   ],
   "source": [
    "# Displaying few rows to verify the loading\n",
    "print(\"Users Data:\")\n",
    "print(users_df.head())"
   ]
  },
  {
   "cell_type": "code",
   "execution_count": 12,
   "id": "54ccc364-33d5-4902-ad28-151854c1697a",
   "metadata": {},
   "outputs": [
    {
     "name": "stdout",
     "output_type": "stream",
     "text": [
      "Products Data:\n",
      "          CATEGORY_1              CATEGORY_2                   CATEGORY_3  \\\n",
      "0  Health & Wellness           Sexual Health  Conductivity Gels & Lotions   \n",
      "1             Snacks           Puffed Snacks         Cheese Curls & Puffs   \n",
      "2  Health & Wellness               Hair Care        Hair Care Accessories   \n",
      "3  Health & Wellness               Oral Care                   Toothpaste   \n",
      "4  Health & Wellness  Medicines & Treatments               Essential Oils   \n",
      "\n",
      "  CATEGORY_4                                       MANUFACTURER  \\\n",
      "0        NaN                                                NaN   \n",
      "1        NaN                                                NaN   \n",
      "2        NaN                           PLACEHOLDER MANUFACTURER   \n",
      "3        NaN                                  COLGATE-PALMOLIVE   \n",
      "4        NaN  MAPLE HOLISTICS AND HONEYDEW PRODUCTS INTERCHA...   \n",
      "\n",
      "             BRAND       BARCODE  \n",
      "0              NaN  7.964944e+11  \n",
      "1              NaN  2.327801e+10  \n",
      "2          ELECSOP  4.618178e+11  \n",
      "3          COLGATE  3.500047e+10  \n",
      "4  MAPLE HOLISTICS  8.068109e+11  \n"
     ]
    }
   ],
   "source": [
    "print(\"Products Data:\")\n",
    "print(products_df.head())"
   ]
  },
  {
   "cell_type": "code",
   "execution_count": 14,
   "id": "72e01622-9b34-4f44-a90c-7ea08bda9ac6",
   "metadata": {},
   "outputs": [
    {
     "name": "stdout",
     "output_type": "stream",
     "text": [
      "Transactions Data:\n",
      "                             RECEIPT_ID PURCHASE_DATE  \\\n",
      "0  0000d256-4041-4a3e-adc4-5623fb6e0c99    2024-08-21   \n",
      "1  0001455d-7a92-4a7b-a1d2-c747af1c8fd3    2024-07-20   \n",
      "2  00017e0a-7851-42fb-bfab-0baa96e23586    2024-08-18   \n",
      "3  000239aa-3478-453d-801e-66a82e39c8af    2024-06-18   \n",
      "4  00026b4c-dfe8-49dd-b026-4c2f0fd5c6a1    2024-07-04   \n",
      "\n",
      "                   SCAN_DATE STORE_NAME                   USER_ID  \\\n",
      "0  2024-08-21 14:19:06.539 Z    WALMART  63b73a7f3d310dceeabd4758   \n",
      "1  2024-07-20 09:50:24.206 Z       ALDI  62c08877baa38d1a1f6c211a   \n",
      "2  2024-08-19 15:38:56.813 Z    WALMART  60842f207ac8b7729e472020   \n",
      "3  2024-06-19 11:03:37.468 Z  FOOD LION  63fcd7cea4f8442c3386b589   \n",
      "4  2024-07-05 15:56:43.549 Z   RANDALLS  6193231ae9b3d75037b0f928   \n",
      "\n",
      "        BARCODE FINAL_QUANTITY FINAL_SALE  \n",
      "0  1.530001e+10           1.00             \n",
      "1           NaN           zero       1.49  \n",
      "2  7.874223e+10           1.00             \n",
      "3  7.833997e+11           zero       3.49  \n",
      "4  4.790050e+10           1.00             \n"
     ]
    }
   ],
   "source": [
    "print(\"Transactions Data:\")\n",
    "print(transaction_df.head())"
   ]
  },
  {
   "cell_type": "code",
   "execution_count": 16,
   "id": "c104216d-7f6f-4ebb-a0ec-f4557da8213d",
   "metadata": {},
   "outputs": [
    {
     "name": "stdout",
     "output_type": "stream",
     "text": [
      "Missing Values in Users Data:\n",
      "ID                  0\n",
      "CREATED_DATE        0\n",
      "BIRTH_DATE       3675\n",
      "STATE            4812\n",
      "LANGUAGE        30508\n",
      "GENDER           5892\n",
      "dtype: int64\n",
      "\n",
      "Missing Values in Transactions Data:\n",
      "RECEIPT_ID           0\n",
      "PURCHASE_DATE        0\n",
      "SCAN_DATE            0\n",
      "STORE_NAME           0\n",
      "USER_ID              0\n",
      "BARCODE           5762\n",
      "FINAL_QUANTITY       0\n",
      "FINAL_SALE           0\n",
      "dtype: int64\n",
      "\n",
      "Missing Values in Products Data:\n",
      "CATEGORY_1         111\n",
      "CATEGORY_2        1424\n",
      "CATEGORY_3       60566\n",
      "CATEGORY_4      778093\n",
      "MANUFACTURER    226474\n",
      "BRAND           226472\n",
      "BARCODE           4025\n",
      "dtype: int64\n"
     ]
    }
   ],
   "source": [
    "#checking for missing values in datasets\n",
    "print(\"Missing Values in Users Data:\")\n",
    "print(users_df.isnull().sum())\n",
    "\n",
    "print(\"\\nMissing Values in Transactions Data:\")\n",
    "print(transaction_df.isnull().sum())\n",
    "\n",
    "print(\"\\nMissing Values in Products Data:\")\n",
    "print(products_df.isnull().sum())"
   ]
  },
  {
   "cell_type": "code",
   "execution_count": 19,
   "id": "ec8eaad2-3b21-4a02-ac6c-c532696b1448",
   "metadata": {},
   "outputs": [
    {
     "name": "stdout",
     "output_type": "stream",
     "text": [
      "Duplicate rows in Users Data: \n",
      "0\n",
      "\n",
      "Duplicate rows in Products Data: \n",
      "215\n",
      "\n",
      "Duplicate rows in Transaction Data: \n",
      "171\n"
     ]
    }
   ],
   "source": [
    "#check for duplicate records in datasets\n",
    "\n",
    "print(\"Duplicate rows in Users Data: \")\n",
    "print(users_df.duplicated().sum())\n",
    "\n",
    "print(\"\\nDuplicate rows in Products Data: \")\n",
    "print(products_df.duplicated().sum())\n",
    "\n",
    "print(\"\\nDuplicate rows in Transaction Data: \")\n",
    "print(transaction_df.duplicated().sum())"
   ]
  },
  {
   "cell_type": "code",
   "execution_count": 20,
   "id": "9b1f5206-f272-479f-b806-f5f4ace3494e",
   "metadata": {},
   "outputs": [
    {
     "name": "stdout",
     "output_type": "stream",
     "text": [
      "Data Types in Users Data:\n",
      "ID              object\n",
      "CREATED_DATE    object\n",
      "BIRTH_DATE      object\n",
      "STATE           object\n",
      "LANGUAGE        object\n",
      "GENDER          object\n",
      "dtype: object\n",
      "\n",
      "Data Types in Transactions Data:\n",
      "RECEIPT_ID         object\n",
      "PURCHASE_DATE      object\n",
      "SCAN_DATE          object\n",
      "STORE_NAME         object\n",
      "USER_ID            object\n",
      "BARCODE           float64\n",
      "FINAL_QUANTITY     object\n",
      "FINAL_SALE         object\n",
      "dtype: object\n",
      "\n",
      "Data Types in Products Data:\n",
      "CATEGORY_1       object\n",
      "CATEGORY_2       object\n",
      "CATEGORY_3       object\n",
      "CATEGORY_4       object\n",
      "MANUFACTURER     object\n",
      "BRAND            object\n",
      "BARCODE         float64\n",
      "dtype: object\n"
     ]
    }
   ],
   "source": [
    "#check for inconsistent Datatypes\n",
    "\n",
    "print(\"Data Types in Users Data:\")\n",
    "print(users_df.dtypes)\n",
    "\n",
    "print(\"\\nData Types in Transactions Data:\")\n",
    "print(transaction_df.dtypes)\n",
    "\n",
    "print(\"\\nData Types in Products Data:\")\n",
    "print(products_df.dtypes)"
   ]
  },
  {
   "cell_type": "code",
   "execution_count": null,
   "id": "348eb299-24d6-4bbd-9fab-f947490284c8",
   "metadata": {},
   "outputs": [],
   "source": []
  },
  {
   "cell_type": "code",
   "execution_count": 22,
   "id": "5ea036a0-3f63-430a-af15-025c228c43ec",
   "metadata": {},
   "outputs": [
    {
     "data": {
      "image/png": "[encoded data removed]",
      "text/plain": [
       "<Figure size 800x500 with 1 Axes>"
      ]
     },
     "metadata": {},
     "output_type": "display_data"
    }
   ],
   "source": [
    "import pandas as pd\n",
    "import matplotlib.pyplot as plt\n",
    "\n",
    "# Ensure FINAL_SALE is numeric\n",
    "transaction_df[\"FINAL_SALE\"] = pd.to_numeric(transaction_df[\"FINAL_SALE\"], errors=\"coerce\")\n",
    "\n",
    "# Drop NaN values if any exist after conversion\n",
    "transaction_df = transaction_df.dropna(subset=[\"FINAL_SALE\"])\n",
    "\n",
    "# Plot the box plot\n",
    "plt.figure(figsize=(8,5))\n",
    "transaction_df[\"FINAL_SALE\"].plot(kind=\"box\", vert=False)\n",
    "plt.title(\"Outlier Detection in Final Sale Amounts\")\n",
    "plt.show()"
   ]
  },
  {
   "cell_type": "code",
   "execution_count": 23,
   "id": "cdfdabb0-9159-4cc8-864e-b24dfaeab8bb",
   "metadata": {},
   "outputs": [
    {
     "name": "stdout",
     "output_type": "stream",
     "text": [
      "Potential anomalies in Users Data:\n",
      "ID              100000\n",
      "CREATED_DATE     99942\n",
      "BIRTH_DATE       54721\n",
      "STATE               52\n",
      "LANGUAGE             2\n",
      "GENDER              11\n",
      "dtype: int64\n",
      "\n",
      "Potential anomalies in Transactions Data:\n",
      "RECEIPT_ID        24440\n",
      "PURCHASE_DATE        89\n",
      "SCAN_DATE         24440\n",
      "STORE_NAME          954\n",
      "USER_ID           17694\n",
      "BARCODE           11027\n",
      "FINAL_QUANTITY       87\n",
      "FINAL_SALE         1434\n",
      "dtype: int64\n",
      "\n",
      "Potential anomalies in Products Data:\n",
      "CATEGORY_1          27\n",
      "CATEGORY_2         121\n",
      "CATEGORY_3         344\n",
      "CATEGORY_4         127\n",
      "MANUFACTURER      4354\n",
      "BRAND             8122\n",
      "BARCODE         841342\n",
      "dtype: int64\n"
     ]
    }
   ],
   "source": [
    "#To identify potential anomalies\n",
    "\n",
    "print(\"Potential anomalies in Users Data:\")\n",
    "print(users_df.nunique())\n",
    "\n",
    "print(\"\\nPotential anomalies in Transactions Data:\")\n",
    "print(transaction_df.nunique())\n",
    "\n",
    "print(\"\\nPotential anomalies in Products Data:\")\n",
    "print(products_df.nunique())"
   ]
  },
  {
   "cell_type": "code",
   "execution_count": null,
   "id": "79e05af8-de89-4640-ac51-6c4424d194f9",
   "metadata": {},
   "outputs": [],
   "source": []
  }
 ],
 "metadata": {
  "kernelspec": {
   "display_name": "Python 3 (ipykernel)",
   "language": "python",
   "name": "python3"
  },
  "language_info": {
   "codemirror_mode": {
    "name": "ipython",
    "version": 3
   },
   "file_extension": ".py",
   "mimetype": "text/x-python",
   "name": "python",
   "nbconvert_exporter": "python",
   "pygments_lexer": "ipython3",
   "version": "3.13.1"
  }
 },
 "nbformat": 4,
 "nbformat_minor": 5
}
