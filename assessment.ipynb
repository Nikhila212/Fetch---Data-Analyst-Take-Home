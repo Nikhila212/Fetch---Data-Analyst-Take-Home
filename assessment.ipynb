{
 "cells": [
  {
   "cell_type": "code",
   "execution_count": 7,
   "id": "83f94a06-0c87-46d0-a2d9-d8e735fb031c",
   "metadata": {},
   "outputs": [],
   "source": [
    "import pandas as pd\n",
    "\n",
    "#Load csv datasets\n",
    "users = r\"C:\\Users\\vaitl\\OneDrive\\Desktop\\Fetch Rewards\\USER_TAKEHOME.csv\"\n",
    "products = r\"C:\\Users\\vaitl\\OneDrive\\Desktop\\Fetch Rewards\\PRODUCTS_TAKEHOME.csv\"\n",
    "transaction = r\"C:\\Users\\vaitl\\OneDrive\\Desktop\\Fetch Rewards\\TRANSACTION_TAKEHOME.csv\"\n",
    "\n",
    "#Read the data in csv files\n",
    "users_df=pd.read_csv(users)\n",
    "products_df=pd.read_csv(products)\n",
    "transaction_df=pd.read_csv(transaction)"
   ]
  },
  {
   "cell_type": "code",
   "execution_count": null,
   "id": "7e898e9d-8c7e-4ab0-967e-d5374db4872c",
   "metadata": {},
   "outputs": [],
   "source": []
  }
 ],
 "metadata": {
  "kernelspec": {
   "display_name": "Python 3 (ipykernel)",
   "language": "python",
   "name": "python3"
  },
  "language_info": {
   "codemirror_mode": {
    "name": "ipython",
    "version": 3
   },
   "file_extension": ".py",
   "mimetype": "text/x-python",
   "name": "python",
   "nbconvert_exporter": "python",
   "pygments_lexer": "ipython3",
   "version": "3.13.1"
  }
 },
 "nbformat": 4,
 "nbformat_minor": 5
}
